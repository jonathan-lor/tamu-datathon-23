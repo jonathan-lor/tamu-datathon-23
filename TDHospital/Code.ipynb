{
 "cells": [
  {
   "cell_type": "markdown",
   "metadata": {},
   "source": [
    "# Data Preprocessing"
   ]
  },
  {
   "cell_type": "code",
   "execution_count": 58,
   "metadata": {},
   "outputs": [],
   "source": [
    "import pandas as pd\n",
    "import numpy as np\n",
    "import math"
   ]
  },
  {
   "cell_type": "code",
   "execution_count": 59,
   "metadata": {},
   "outputs": [],
   "source": [
    "# Equation for Cleaning data\n",
    "\n",
    "def clean_Sex(x):\n",
    "    if x.lower() == \"male\" or x.lower() == \"m\" or x == 1:\n",
    "        return \"male\"\n",
    "    elif x.lower() == \"female\" or x.lower() == \"f\":\n",
    "        return \"female\"\n",
    "\n",
    "def fill_na(x):\n",
    "    if math.isnan(x):\n",
    "        return 0\n",
    "    else:\n",
    "        return x\n"
   ]
  },
  {
   "cell_type": "code",
   "execution_count": 60,
   "metadata": {},
   "outputs": [
    {
     "data": {
      "text/html": [
       "<div>\n",
       "<style scoped>\n",
       "    .dataframe tbody tr th:only-of-type {\n",
       "        vertical-align: middle;\n",
       "    }\n",
       "\n",
       "    .dataframe tbody tr th {\n",
       "        vertical-align: top;\n",
       "    }\n",
       "\n",
       "    .dataframe thead th {\n",
       "        text-align: right;\n",
       "    }\n",
       "</style>\n",
       "<table border=\"1\" class=\"dataframe\">\n",
       "  <thead>\n",
       "    <tr style=\"text-align: right;\">\n",
       "      <th></th>\n",
       "      <th>timeknown</th>\n",
       "      <th>cost</th>\n",
       "      <th>reflex</th>\n",
       "      <th>sex</th>\n",
       "      <th>blood</th>\n",
       "      <th>bloodchem1</th>\n",
       "      <th>bloodchem2</th>\n",
       "      <th>temperature</th>\n",
       "      <th>race</th>\n",
       "      <th>heart</th>\n",
       "      <th>...</th>\n",
       "      <th>diabetes</th>\n",
       "      <th>income</th>\n",
       "      <th>extraprimary</th>\n",
       "      <th>bloodchem6</th>\n",
       "      <th>education</th>\n",
       "      <th>psych5</th>\n",
       "      <th>psych6</th>\n",
       "      <th>information</th>\n",
       "      <th>cancer</th>\n",
       "      <th>death</th>\n",
       "    </tr>\n",
       "  </thead>\n",
       "  <tbody>\n",
       "    <tr>\n",
       "      <th>0</th>\n",
       "      <td>4.0</td>\n",
       "      <td>3008.38867</td>\n",
       "      <td>11.228005</td>\n",
       "      <td>male</td>\n",
       "      <td>20.699219</td>\n",
       "      <td>2.199707</td>\n",
       "      <td>1.299805</td>\n",
       "      <td>35.59375</td>\n",
       "      <td>white</td>\n",
       "      <td>103.0</td>\n",
       "      <td>...</td>\n",
       "      <td>0.0</td>\n",
       "      <td>$11-$25k</td>\n",
       "      <td>COPD/CHF/Cirrhosis</td>\n",
       "      <td>167.5000</td>\n",
       "      <td>20.0</td>\n",
       "      <td>30.0</td>\n",
       "      <td>2.000</td>\n",
       "      <td>0.0</td>\n",
       "      <td>no</td>\n",
       "      <td>1.0</td>\n",
       "    </tr>\n",
       "    <tr>\n",
       "      <th>1</th>\n",
       "      <td>467.0</td>\n",
       "      <td>23585.89060</td>\n",
       "      <td>9.714861</td>\n",
       "      <td>M</td>\n",
       "      <td>9.398438</td>\n",
       "      <td>NaN</td>\n",
       "      <td>0.699951</td>\n",
       "      <td>39.00000</td>\n",
       "      <td>white</td>\n",
       "      <td>50.0</td>\n",
       "      <td>...</td>\n",
       "      <td>0.0</td>\n",
       "      <td>&gt;$50k</td>\n",
       "      <td>Cancer</td>\n",
       "      <td>480.0000</td>\n",
       "      <td>16.0</td>\n",
       "      <td>11.5</td>\n",
       "      <td>1.000</td>\n",
       "      <td>10.0</td>\n",
       "      <td>metastatic</td>\n",
       "      <td>1.0</td>\n",
       "    </tr>\n",
       "    <tr>\n",
       "      <th>2</th>\n",
       "      <td>533.0</td>\n",
       "      <td>4046.45898</td>\n",
       "      <td>11.353296</td>\n",
       "      <td>Male</td>\n",
       "      <td>19.296875</td>\n",
       "      <td>NaN</td>\n",
       "      <td>1.599854</td>\n",
       "      <td>38.19531</td>\n",
       "      <td>white</td>\n",
       "      <td>50.0</td>\n",
       "      <td>...</td>\n",
       "      <td>1.0</td>\n",
       "      <td>under $11k</td>\n",
       "      <td>ARF/MOSF</td>\n",
       "      <td>177.1250</td>\n",
       "      <td>5.0</td>\n",
       "      <td>18.0</td>\n",
       "      <td>0.000</td>\n",
       "      <td>5.0</td>\n",
       "      <td>yes</td>\n",
       "      <td>0.0</td>\n",
       "    </tr>\n",
       "    <tr>\n",
       "      <th>3</th>\n",
       "      <td>68.0</td>\n",
       "      <td>NaN</td>\n",
       "      <td>9.269058</td>\n",
       "      <td>female</td>\n",
       "      <td>7.500000</td>\n",
       "      <td>2.500000</td>\n",
       "      <td>0.599976</td>\n",
       "      <td>37.59375</td>\n",
       "      <td>white</td>\n",
       "      <td>80.0</td>\n",
       "      <td>...</td>\n",
       "      <td>0.0</td>\n",
       "      <td>$11-$25k</td>\n",
       "      <td>COPD/CHF/Cirrhosis</td>\n",
       "      <td>NaN</td>\n",
       "      <td>12.0</td>\n",
       "      <td>7.0</td>\n",
       "      <td>1.839</td>\n",
       "      <td>12.0</td>\n",
       "      <td>no</td>\n",
       "      <td>1.0</td>\n",
       "    </tr>\n",
       "    <tr>\n",
       "      <th>4</th>\n",
       "      <td>1605.0</td>\n",
       "      <td>6457.70703</td>\n",
       "      <td>8.655387</td>\n",
       "      <td>female</td>\n",
       "      <td>15.099609</td>\n",
       "      <td>4.399414</td>\n",
       "      <td>0.699951</td>\n",
       "      <td>35.69531</td>\n",
       "      <td>white</td>\n",
       "      <td>114.0</td>\n",
       "      <td>...</td>\n",
       "      <td>0.0</td>\n",
       "      <td>under $11k</td>\n",
       "      <td>COPD/CHF/Cirrhosis</td>\n",
       "      <td>233.3125</td>\n",
       "      <td>2.0</td>\n",
       "      <td>7.0</td>\n",
       "      <td>6.000</td>\n",
       "      <td>12.0</td>\n",
       "      <td>no</td>\n",
       "      <td>0.0</td>\n",
       "    </tr>\n",
       "  </tbody>\n",
       "</table>\n",
       "<p>5 rows × 44 columns</p>\n",
       "</div>"
      ],
      "text/plain": [
       "   timeknown         cost     reflex     sex      blood  bloodchem1  \\\n",
       "0        4.0   3008.38867  11.228005    male  20.699219    2.199707   \n",
       "1      467.0  23585.89060   9.714861       M   9.398438         NaN   \n",
       "2      533.0   4046.45898  11.353296    Male  19.296875         NaN   \n",
       "3       68.0          NaN   9.269058  female   7.500000    2.500000   \n",
       "4     1605.0   6457.70703   8.655387  female  15.099609    4.399414   \n",
       "\n",
       "   bloodchem2  temperature   race  heart  ...  diabetes      income  \\\n",
       "0    1.299805     35.59375  white  103.0  ...       0.0    $11-$25k   \n",
       "1    0.699951     39.00000  white   50.0  ...       0.0       >$50k   \n",
       "2    1.599854     38.19531  white   50.0  ...       1.0  under $11k   \n",
       "3    0.599976     37.59375  white   80.0  ...       0.0    $11-$25k   \n",
       "4    0.699951     35.69531  white  114.0  ...       0.0  under $11k   \n",
       "\n",
       "         extraprimary  bloodchem6  education  psych5  psych6  information  \\\n",
       "0  COPD/CHF/Cirrhosis    167.5000       20.0    30.0   2.000          0.0   \n",
       "1              Cancer    480.0000       16.0    11.5   1.000         10.0   \n",
       "2            ARF/MOSF    177.1250        5.0    18.0   0.000          5.0   \n",
       "3  COPD/CHF/Cirrhosis         NaN       12.0     7.0   1.839         12.0   \n",
       "4  COPD/CHF/Cirrhosis    233.3125        2.0     7.0   6.000         12.0   \n",
       "\n",
       "       cancer  death  \n",
       "0          no    1.0  \n",
       "1  metastatic    1.0  \n",
       "2         yes    0.0  \n",
       "3          no    1.0  \n",
       "4          no    0.0  \n",
       "\n",
       "[5 rows x 44 columns]"
      ]
     },
     "execution_count": 60,
     "metadata": {},
     "output_type": "execute_result"
    }
   ],
   "source": [
    "#Read the data\n",
    "df = pd.read_csv(\"TD_HOSPITAL_TRAIN.csv\")\n",
    "df.head()"
   ]
  },
  {
   "cell_type": "code",
   "execution_count": 61,
   "metadata": {},
   "outputs": [
    {
     "data": {
      "text/plain": [
       "array([nan])"
      ]
     },
     "execution_count": 61,
     "metadata": {},
     "output_type": "execute_result"
    }
   ],
   "source": [
    "unique_pdeath_values = df['pdeath'].unique()\n",
    "unique_pdeath_values"
   ]
  },
  {
   "cell_type": "code",
   "execution_count": 62,
   "metadata": {},
   "outputs": [],
   "source": [
    "df = df.drop(columns=['pdeath'])"
   ]
  },
  {
   "cell_type": "code",
   "execution_count": 63,
   "metadata": {},
   "outputs": [],
   "source": [
    "#Apply fill_na to numeric columns\n",
    "for col in df.columns:\n",
    "    if df[col].dtype in [np.int64, np.float64]:\n",
    "        df[col] = df[col].apply(fill_na)"
   ]
  },
  {
   "cell_type": "code",
   "execution_count": 64,
   "metadata": {},
   "outputs": [],
   "source": [
    "#ONE HOT ENCODING\n",
    "\n",
    "encoding_columns = [\"sex\", \"dnr\", \"primary\", \"disability\", \"extraprimary\", \"cancer\", \"race\"]\n",
    "\n",
    "for i in encoding_columns:\n",
    "    newCols = pd.get_dummies(df[i], prefix=i)\n",
    "    df = pd.concat([df, newCols], axis=1)\n",
    "    df = df.drop(columns=[i])\n"
   ]
  },
  {
   "cell_type": "code",
   "execution_count": 65,
   "metadata": {},
   "outputs": [],
   "source": [
    "for i in df.columns:\n",
    "    try:\n",
    "        df[i] = df[i].astype(float)\n",
    "    except ValueError:\n",
    "        pass"
   ]
  },
  {
   "cell_type": "code",
   "execution_count": 66,
   "metadata": {},
   "outputs": [],
   "source": [
    "#drop un important features\n",
    "drop_cols = [\"cost\", \"income\"]\n",
    "df = df.drop(columns=drop_cols)"
   ]
  },
  {
   "cell_type": "code",
   "execution_count": 76,
   "metadata": {},
   "outputs": [
    {
     "data": {
      "text/plain": [
       "Index(['timeknown', 'reflex', 'blood', 'bloodchem1', 'bloodchem2',\n",
       "       'temperature', 'heart', 'psych1', 'glucose', 'psych2', 'dose', 'psych3',\n",
       "       'bp', 'bloodchem3', 'confidence', 'bloodchem4', 'comorbidity',\n",
       "       'totalcost', 'breathing', 'age', 'sleep', 'bloodchem5', 'meals', 'pain',\n",
       "       'psych4', 'administratorcost', 'urine', 'diabetes', 'bloodchem6',\n",
       "       'education', 'psych5', 'psych6', 'information', 'death', 'sex_1',\n",
       "       'sex_M', 'sex_Male', 'sex_female', 'sex_male', 'dnr_dnr after sadm',\n",
       "       'dnr_dnr before sadm', 'dnr_no dnr', 'primary_ARF/MOSF w/Sepsis',\n",
       "       'primary_CHF', 'primary_COPD', 'primary_Cirrhosis',\n",
       "       'primary_Colon Cancer', 'primary_Coma', 'primary_Lung Cancer',\n",
       "       'primary_MOSF w/Malig', 'disability_<2 mo. follow-up',\n",
       "       'disability_Coma or Intub', 'disability_SIP>=30',\n",
       "       'disability_adl>=4 (>=5 if sur)', 'disability_no(M2 and SIP pres)',\n",
       "       'extraprimary_ARF/MOSF', 'extraprimary_COPD/CHF/Cirrhosis',\n",
       "       'extraprimary_Cancer', 'extraprimary_Coma', 'cancer_metastatic',\n",
       "       'cancer_no', 'cancer_yes', 'race_asian', 'race_black', 'race_hispanic',\n",
       "       'race_other', 'race_white'],\n",
       "      dtype='object')"
      ]
     },
     "execution_count": 76,
     "metadata": {},
     "output_type": "execute_result"
    }
   ],
   "source": [
    "#Save columns name and order for future prediction\n",
    "df_cols = df.columns\n",
    "df_cols"
   ]
  },
  {
   "cell_type": "markdown",
   "metadata": {},
   "source": [
    "# Model Training"
   ]
  },
  {
   "cell_type": "code",
   "execution_count": 74,
   "metadata": {},
   "outputs": [],
   "source": [
    "from sklearn.model_selection import train_test_split\n",
    "from sklearn.metrics import accuracy_score\n",
    "from sklearn.model_selection import GridSearchCV\n",
    "from sklearn.ensemble import AdaBoostClassifier\n",
    "from sklearn.preprocessing import StandardScaler\n",
    "from sklearn.metrics import roc_auc_score"
   ]
  },
  {
   "cell_type": "code",
   "execution_count": 68,
   "metadata": {},
   "outputs": [],
   "source": [
    "#Get features and labels\n",
    "y = df['death'] \n",
    "X = df.drop(columns=['death'])"
   ]
  },
  {
   "cell_type": "code",
   "execution_count": 69,
   "metadata": {},
   "outputs": [],
   "source": [
    "# Scalling\n",
    "scaler = StandardScaler()\n",
    "scaler.fit(X)\n",
    "X = scaler.transform(X)"
   ]
  },
  {
   "cell_type": "code",
   "execution_count": 70,
   "metadata": {},
   "outputs": [],
   "source": [
    "X_train, X_test, y_train, y_test = train_test_split(X, y, test_size=0.2, random_state=42)"
   ]
  },
  {
   "cell_type": "code",
   "execution_count": null,
   "metadata": {},
   "outputs": [],
   "source": [
    "rf = RandomForestClassifier()\n",
    "param_grid_RF = {\n",
    "    'n_estimators': [50, 100, 200],\n",
    "    'max_depth': [None, 10, 20],\n",
    "    'min_samples_split': [2, 5, 10],\n",
    "    'criterion': ['gini', 'entropy']\n",
    "}\n",
    "\n",
    "# Perform GridSearchCV for hyperparameter tuning\n",
    "rf_model = GridSearchCV(rf, param_grid_RF, cv=3, n_jobs=-1)\n",
    "rf_model.fit(X_train, y_train)\n"
   ]
  },
  {
   "cell_type": "code",
   "execution_count": null,
   "metadata": {},
   "outputs": [],
   "source": [
    "y_pred_RF = rf_model.predict_proba(X_test)[:,1]"
   ]
  },
  {
   "cell_type": "code",
   "execution_count": null,
   "metadata": {},
   "outputs": [],
   "source": [
    "xgb = XGBClassifier()\n",
    "param_grid_XGB = {\n",
    "    'n_estimators': [50, 100, 200, 500, 1000],\n",
    "    'learning_rate': [0.01, 0.1, 0.2, 0.4, 0.7, 1],\n",
    "    'max_depth': [3, 4, 5, 8, 10],\n",
    "    'booster': ['gbtree', 'gblinear', 'dart']\n",
    "}\n",
    "\n",
    "xgb_model = GridSearchCV(xgb, param_grid_XGB, cv=3, n_jobs=-1)\n",
    "xgb_model.fit(X_train, y_train)"
   ]
  },
  {
   "cell_type": "code",
   "execution_count": null,
   "metadata": {},
   "outputs": [],
   "source": [
    "y_pred_XGB = xgb_model.predict_proba(X_test)[:,1]"
   ]
  },
  {
   "cell_type": "code",
   "execution_count": 71,
   "metadata": {},
   "outputs": [
    {
     "data": {
      "text/plain": [
       "GridSearchCV(cv=5, estimator=AdaBoostClassifier(),\n",
       "             param_grid={'algorithm': ['SAMME', 'SAMME.R'],\n",
       "                         'learning_rate': [0.1, 0.2, 0.3, 0.4, 0.5, 0.6, 0.7,\n",
       "                                           0.8, 0.9, 1],\n",
       "                         'n_estimators': [50, 100, 200, 300, 400, 500, 1000]})"
      ]
     },
     "execution_count": 71,
     "metadata": {},
     "output_type": "execute_result"
    }
   ],
   "source": [
    "ada = AdaBoostClassifier()\n",
    "\n",
    "#Hypertunining\n",
    "param_grid_ADA = {'n_estimators': [50, 100, 200, 300, 400, 500, 1000],\n",
    "              'learning_rate': [ 0.1, 0.2, 0.3, 0.4, 0.5, 0.6, 0.7, 0.8, 0.9, 1],\n",
    "              'algorithm': ['SAMME', 'SAMME.R']}\n",
    "\n",
    "#train with grid search\n",
    "ada_model = GridSearchCV(ada, param_grid_ADA, cv=5)\n",
    "ada_model.fit(X_train, y_train)"
   ]
  },
  {
   "cell_type": "code",
   "execution_count": 75,
   "metadata": {},
   "outputs": [
    {
     "name": "stdout",
     "output_type": "stream",
     "text": [
      "0.945410830117046\n"
     ]
    }
   ],
   "source": [
    "y_pred_ADA = ada_model.predict_proba(X_test)[:,1]\n",
    "rocauc = roc_auc_score(y_test, y_pred)\n",
    "print(rocauc)"
   ]
  },
  {
   "cell_type": "code",
   "execution_count": null,
   "metadata": {},
   "outputs": [],
   "source": [
    "rocauc_RF = roc_auc_score(y_test, y_pred_RF)\n",
    "rocauc_XGB = roc_auc_score(y_test, y_pred_XGB)\n",
    "rocauc_ADA = roc_auc_score(y_test, y_pred_ADA)\n",
    "print(\"Random Forest: \", rocauc)\n",
    "print(\"XGBoost: \", rocauc_XGB)\n",
    "print(\"AdaBoost: \", rocauc_ADA)"
   ]
  },
  {
   "cell_type": "code",
   "execution_count": 80,
   "metadata": {},
   "outputs": [
    {
     "data": {
      "image/png": "[encoded data removed]",
      "text/plain": [
       "<Figure size 576x432 with 1 Axes>"
      ]
     },
     "metadata": {
      "needs_background": "light"
     },
     "output_type": "display_data"
    }
   ],
   "source": [
    "import matplotlib.pyplot as plt\n",
    "from sklearn.metrics import roc_auc_score, roc_curve\n",
    "\n",
    "fpr_rf, tpr_rf, thresholds_rf = roc_curve(y_test, y_pred_RF)\n",
    "fpr_xgb, tpr_xgb, thresholds_xgb = roc_curve(y_test, y_pred_XGB)\n",
    "fpr_ada, tpr_ada, thresholds_ada = roc_curve(y_test, y_pred_ADA)\n",
    "plt.figure(figsize=(8, 6))\n",
    "plt.plot(fpr_rf, tpr_rf, color='green', lw=2, label=f'ROC curve Random Forest (area = {rocauc_RF:.2f})')\n",
    "plt.plot(fpr_xgb, tpr_xgb, color='red', lw=2, label=f'ROC curve XGBoost(area = {rocauc_XGB:.2f})')\n",
    "plt.plot(fpr_ada, tpr_ada, color='blue', lw=2, label=f'ROC curve AdaBoost(area = {rocauc_ADA:.2f})')\n",
    "plt.xlim([0.0, 1.0])\n",
    "plt.ylim([0.0, 1.05])\n",
    "plt.xlabel('False Positive Rate')\n",
    "plt.ylabel('True Positive Rate')\n",
    "plt.title('Receiver Operating Characteristic (ROC) Curve')\n",
    "plt.legend(loc=\"lower right\")\n",
    "plt.show()"
   ]
  }
 ],
 "metadata": {
  "kernelspec": {
   "display_name": "base",
   "language": "python",
   "name": "python3"
  },
  "language_info": {
   "codemirror_mode": {
    "name": "ipython",
    "version": 3
   },
   "file_extension": ".py",
   "mimetype": "text/x-python",
   "name": "python",
   "nbconvert_exporter": "python",
   "pygments_lexer": "ipython3",
   "version": "3.8.8"
  }
 },
 "nbformat": 4,
 "nbformat_minor": 2
}
